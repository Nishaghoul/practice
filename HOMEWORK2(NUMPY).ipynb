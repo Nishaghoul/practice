{
 "cells": [
  {
   "cell_type": "code",
   "execution_count": 1,
   "metadata": {},
   "outputs": [
    {
     "name": "stdout",
     "output_type": "stream",
     "text": [
      "[ 1  2  3  4  5  6  7  8  9 10]\n"
     ]
    }
   ],
   "source": [
    "#importing numpy\n",
    "import numpy as np\n",
    "#creating a 1D array\n",
    "X=np.array([1,2,3,4,5,6,7,8,9,10])\n",
    "print(X)\n"
   ]
  },
  {
   "cell_type": "code",
   "execution_count": 2,
   "metadata": {},
   "outputs": [
    {
     "data": {
      "text/plain": [
       "array([[ True,  True,  True],\n",
       "       [ True,  True,  True],\n",
       "       [ True,  True,  True]])"
      ]
     },
     "execution_count": 2,
     "metadata": {},
     "output_type": "execute_result"
    }
   ],
   "source": [
    "#creating a 3*3 numpy array of all True's\n",
    "Y=np.array([[True,True,True],[True,True,True],[True,True,True]],dtype=bool)\n",
    "Y"
   ]
  },
  {
   "cell_type": "code",
   "execution_count": 3,
   "metadata": {},
   "outputs": [
    {
     "data": {
      "text/plain": [
       "[1, 65, 63, 4323, 21, 123, 2323, 6687]"
      ]
     },
     "execution_count": 3,
     "metadata": {},
     "output_type": "execute_result"
    }
   ],
   "source": [
    "#given an array as input, print only odd numbers as output\n",
    "X=np.array([1,2,34,46,65,63,34632,1354,234,4323,21,123,132,2323,6687])\n",
    "list(filter(lambda x:x%2!=0,X))"
   ]
  },
  {
   "cell_type": "code",
   "execution_count": 4,
   "metadata": {},
   "outputs": [
    {
     "name": "stdout",
     "output_type": "stream",
     "text": [
      "[-2  2 -2  4 -2]\n"
     ]
    }
   ],
   "source": [
    "#replacing all odd numbers in the array with -2\n",
    "X=np.array([1,2,3,4,5])\n",
    "for i in range(0,len(X)):\n",
    "    if X[i]%2!=0:\n",
    "        X[i]=-2\n",
    "print(X)"
   ]
  },
  {
   "cell_type": "code",
   "execution_count": 5,
   "metadata": {},
   "outputs": [
    {
     "data": {
      "text/plain": [
       "array([[1, 2, 3],\n",
       "       [4, 5, 6]])"
      ]
     },
     "execution_count": 5,
     "metadata": {},
     "output_type": "execute_result"
    }
   ],
   "source": [
    "#how to reshape an array\n",
    "a=np.array([1,2,3,4,5,6])\n",
    "b=a.reshape(2,3)\n",
    "b"
   ]
  },
  {
   "cell_type": "code",
   "execution_count": 6,
   "metadata": {},
   "outputs": [],
   "source": [
    "#convert a 1d array to a 2d array with 2 rows\n",
    "a=np.array([1,2,3,4,5,6,7,8])\n",
    "b=a.reshape(2,4)"
   ]
  },
  {
   "cell_type": "code",
   "execution_count": 7,
   "metadata": {},
   "outputs": [
    {
     "data": {
      "text/plain": [
       "array([[1, 2, 3, 4],\n",
       "       [5, 6, 7, 8]])"
      ]
     },
     "execution_count": 7,
     "metadata": {},
     "output_type": "execute_result"
    }
   ],
   "source": [
    "b"
   ]
  },
  {
   "cell_type": "code",
   "execution_count": 8,
   "metadata": {},
   "outputs": [
    {
     "data": {
      "text/plain": [
       "[1, 3, 4, 5, 7, 8, 9]"
      ]
     },
     "execution_count": 8,
     "metadata": {},
     "output_type": "execute_result"
    }
   ],
   "source": [
    "#given an array, create new array from it such that it includes all odd numbers and 4 multiples\n",
    "a=np.array([1,2,3,4,5,6,7,8,9])\n",
    "list(filter(lambda x:x%2!=0 or x%4==0,a))\n"
   ]
  },
  {
   "cell_type": "code",
   "execution_count": 9,
   "metadata": {},
   "outputs": [
    {
     "name": "stdout",
     "output_type": "stream",
     "text": [
      "Element is found\n",
      "Element is found\n",
      "Element is found\n",
      "Element is found\n"
     ]
    }
   ],
   "source": [
    "#how to replace all missing values with 0 in a numpy array\n",
    "x=np.array(['india','pakistan','','afghanistan','','nepal'])\n",
    "for i in range(0,len(x)):\n",
    "    if x[i]:\n",
    "        print('Element is found')\n",
    "    else:\n",
    "        x[i]=0"
   ]
  },
  {
   "cell_type": "code",
   "execution_count": 10,
   "metadata": {},
   "outputs": [
    {
     "data": {
      "text/plain": [
       "array(['india', 'pakistan', '0', 'afghanistan', '0', 'nepal'],\n",
       "      dtype='<U11')"
      ]
     },
     "execution_count": 10,
     "metadata": {},
     "output_type": "execute_result"
    }
   ],
   "source": [
    "x"
   ]
  },
  {
   "cell_type": "code",
   "execution_count": 11,
   "metadata": {},
   "outputs": [
    {
     "data": {
      "text/plain": [
       "array([[ 1,  2],\n",
       "       [ 2,  3],\n",
       "       [ 5,  2],\n",
       "       [34,  4]], dtype=int64)"
      ]
     },
     "execution_count": 11,
     "metadata": {},
     "output_type": "execute_result"
    }
   ],
   "source": [
    "x=[1,1,2,2,2,5,5,34,34,34,34]\n",
    "np.array(np.unique(x,return_counts=True)).T"
   ]
  },
  {
   "cell_type": "code",
   "execution_count": 12,
   "metadata": {},
   "outputs": [],
   "source": [
    "#above to find the count of each unique number in a NumPy array"
   ]
  },
  {
   "cell_type": "code",
   "execution_count": 13,
   "metadata": {},
   "outputs": [
    {
     "name": "stdout",
     "output_type": "stream",
     "text": [
      "the number is  100\n",
      "sorry, we cannot print the number\n",
      "the number is  110\n",
      "the number is  112\n",
      "the number is  115\n",
      "the number is  119\n",
      "the number is  120\n",
      "the number is  125\n",
      "the number is  126\n",
      "the number is  130\n",
      "the number is  133\n",
      "the number is  135\n",
      "sorry, we cannot print the number\n",
      "the number is  145\n",
      "the number is  147\n",
      "the number is  150\n",
      "the number is  154\n",
      "the number is  155\n",
      "the number is  160\n",
      "the number is  161\n",
      "the number is  165\n",
      "the number is  168\n",
      "the number is  170\n",
      "sorry, we cannot print the number\n",
      "the number is  180\n",
      "the number is  182\n",
      "the number is  185\n",
      "the number is  189\n",
      "the number is  190\n",
      "the number is  195\n",
      "the number is  196\n",
      "the number is  200\n",
      "the number is  203\n",
      "the number is  205\n",
      "sorry, we cannot print the number\n",
      "the number is  215\n",
      "the number is  217\n",
      "the number is  220\n",
      "the number is  224\n",
      "the number is  225\n",
      "the number is  230\n",
      "the number is  231\n",
      "the number is  235\n",
      "the number is  238\n",
      "the number is  240\n",
      "sorry, we cannot print the number\n",
      "the number is  250\n",
      "the number is  252\n",
      "the number is  255\n",
      "the number is  259\n",
      "the number is  260\n",
      "the number is  265\n",
      "the number is  266\n",
      "the number is  270\n",
      "the number is  273\n",
      "the number is  275\n",
      "sorry, we cannot print the number\n",
      "the number is  285\n",
      "the number is  287\n",
      "the number is  290\n",
      "the number is  294\n",
      "the number is  295\n"
     ]
    }
   ],
   "source": [
    "#program to print all numbers btw 99 and 299 that are divisible by 5 or 7 exclusively\n",
    "for i in range(99,299):\n",
    "    if (i%5==0 and i%7==0):\n",
    "        print(\"sorry, we cannot print the number\")\n",
    "    elif (i%5==0 or i%7==0):\n",
    "        print(\"the number is \",i)"
   ]
  },
  {
   "cell_type": "code",
   "execution_count": 14,
   "metadata": {},
   "outputs": [],
   "source": [
    "#wap to reverse and array and print\n",
    "x=np.array([1,2,3,4,5])\n",
    "n=len(x) #value of n is 5\n",
    "for i in range(0,(n-1)//2):\n",
    "    temp1=x[i]\n",
    "    temp2=x[n-1-i]\n",
    "    x[i]=temp2\n",
    "    x[n-1-i]=temp1"
   ]
  },
  {
   "cell_type": "code",
   "execution_count": 15,
   "metadata": {},
   "outputs": [
    {
     "data": {
      "text/plain": [
       "array([5, 4, 3, 2, 1])"
      ]
     },
     "execution_count": 15,
     "metadata": {},
     "output_type": "execute_result"
    }
   ],
   "source": [
    "x"
   ]
  },
  {
   "cell_type": "code",
   "execution_count": null,
   "metadata": {},
   "outputs": [],
   "source": []
  }
 ],
 "metadata": {
  "kernelspec": {
   "display_name": "Python 3",
   "language": "python",
   "name": "python3"
  },
  "language_info": {
   "codemirror_mode": {
    "name": "ipython",
    "version": 3
   },
   "file_extension": ".py",
   "mimetype": "text/x-python",
   "name": "python",
   "nbconvert_exporter": "python",
   "pygments_lexer": "ipython3",
   "version": "3.7.3"
  }
 },
 "nbformat": 4,
 "nbformat_minor": 2
}
